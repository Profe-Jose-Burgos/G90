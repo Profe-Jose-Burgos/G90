{
  "nbformat": 4,
  "nbformat_minor": 0,
  "metadata": {
    "colab": {
      "provenance": []
    },
    "kernelspec": {
      "name": "python3",
      "display_name": "Python 3"
    },
    "language_info": {
      "name": "python"
    }
  },
  "cells": [
    {
      "cell_type": "markdown",
      "source": [
        "## ***Libraries***"
      ],
      "metadata": {
        "id": "na1xQCkSHpD-"
      }
    },
    {
      "cell_type": "code",
      "source": [
        "#Import useful libraries--------------------------------------------------------\n",
        "\n",
        "import numpy as np\n",
        "import matplotlib.pyplot as plt\n",
        "from matplotlib.backends.backend_pdf import PdfPages\n",
        "import datetime as dt\n",
        "import seaborn as sns\n",
        "import pandas as pd\n",
        "from email.mime.multipart import MIMEMultipart\n",
        "from email.mime.base import MIMEBase\n",
        "from smtplib import SMTP\n",
        "from email import encoders\n",
        "'''\n",
        "1.filtrar datos basura= (na, trash_data)\n",
        "2.agupar por dia, mes y año= (year, dayofmounth ,mounth)\n",
        "3.calcular la tardanza  por envios= (Actual_Shipment_Time, Planned_Shipment_Time)\n",
        "4.grafica de eficiencia de envios por mes= (2.(Actual_Shipment_Time, Planned_Shipment_Time))\n",
        "5.grafica de eficiencia de envios por mes, nombre y numero de trasportista= (2.(4.(Carrier_Name, Carrier_Num)))\n",
        "6.grafica de eficiencia de envios por mes, origen y destino= (2.(4.(origen, destino)))\n",
        "\n",
        "7.grafica de eficiencia de entrega por mes, nombre y numero de trasportista\n",
        "8.grafica de eficiencia de entrega por mes, origen y destino\n",
        "\n",
        "   '''"
      ],
      "metadata": {
        "id": "8ab8ThkvHtkw",
        "colab": {
          "base_uri": "https://localhost:8080/",
          "height": 87
        },
        "outputId": "8a75a3b6-44b9-4fe0-e800-1b021ee1538c"
      },
      "execution_count": null,
      "outputs": [
        {
          "output_type": "execute_result",
          "data": {
            "text/plain": [
              "'\\n1.filtrar datos basura= (na, trash_data)\\n2.agupar por dia, mes y año= (year, dayofmounth ,mounth)\\n3.calcular la tardanza  por envios= (Actual_Shipment_Time, Planned_Shipment_Time)\\n4.grafica de eficiencia de envios por mes= (2.(Actual_Shipment_Time, Planned_Shipment_Time))\\n5.grafica de eficiencia de envios por mes, nombre y numero de trasportista= (2.(4.(Carrier_Name, Carrier_Num)))\\n6.grafica de eficiencia de envios por mes, origen y destino= (2.(4.(origen, destino)))\\n\\n7.grafica de eficiencia de entrega por mes, nombre y numero de trasportista\\n8.grafica de eficiencia de entrega por mes, origen y destino\\n\\n   '"
            ],
            "application/vnd.google.colaboratory.intrinsic+json": {
              "type": "string"
            }
          },
          "metadata": {},
          "execution_count": 39
        }
      ]
    },
    {
      "cell_type": "markdown",
      "source": [
        "## ***Data Extraction***"
      ],
      "metadata": {
        "id": "F0HdIZl7IS6q"
      }
    },
    {
      "cell_type": "code",
      "source": [
        "#Data extraction----------------------------------------------------------------\n",
        "\n",
        "\n",
        "from google.colab import drive\n",
        "drive.mount('/content/drive')\n",
        "\n",
        "deliv=pd.read_csv('/content/drive/MyDrive/delivery_dataset.csv',sep=';')\n",
        "data=pd.DataFrame(deliv)\n",
        "\n"
      ],
      "metadata": {
        "id": "N5ftOoGfIgJB",
        "colab": {
          "base_uri": "https://localhost:8080/"
        },
        "outputId": "0e60896e-ed16-48a4-e251-9e24367d5a85"
      },
      "execution_count": null,
      "outputs": [
        {
          "output_type": "stream",
          "name": "stdout",
          "text": [
            "Drive already mounted at /content/drive; to attempt to forcibly remount, call drive.mount(\"/content/drive\", force_remount=True).\n"
          ]
        }
      ]
    },
    {
      "cell_type": "markdown",
      "source": [
        "## ***PIE GRAPHS***"
      ],
      "metadata": {
        "id": "CAOBja2dcbRx"
      }
    },
    {
      "cell_type": "code",
      "source": [
        "\n",
        "def data_NA_drop(data):\n",
        "  data =data.dropna()\n",
        "  data =data.reset_index(drop=True)\n",
        "  return data\n",
        "\n",
        "def trash_data(trash):\n",
        "  global data\n",
        "  data=data.drop([trash])\n",
        "\n",
        "def Timedata_filter(timedata):\n",
        "  timefilter =[]\n",
        "  trash =0\n",
        "  for i in timedata:\n",
        "    i=str(int(i))\n",
        "    if len(i)==3 or len(i)==4:\n",
        "      timefilter.append(i)\n",
        "      trash +=1\n",
        "    else:\n",
        "      trash_data(trash)\n",
        "      trash +=1\n",
        "  return timefilter\n",
        "\n",
        "def time_separation(time_format):\n",
        "  hours=[]\n",
        "  minutes=[]\n",
        "  for i in time_format:\n",
        "    if len(i)==3 or len(i)==4:\n",
        "      mi=i[:-2]\n",
        "      ho=i[-2:]\n",
        "      hours.append(int(ho))\n",
        "      minutes.append(int(mi))\n",
        "  return hours,minutes\n",
        "\n",
        "def Shipping_expectation(ast,pst):\n",
        "  time_sh={\"S\":[]}\n",
        "  for x,y in zip(ast,pst): \n",
        "    if x==y:\n",
        "      time_sh[\"S\"].append(\"rigth\")\n",
        "    elif x<y:\n",
        "      time_sh[\"S\"].append(\"early\")\n",
        "    elif x>y:\n",
        "      time_sh[\"S\"].append(\"late\")\n",
        "  return time_sh\n",
        "\n",
        "def Shipping_delay(ast,pst):\n",
        "  time_de={\"delay\":[]}\n",
        "  h1,m1=time_separation(ast)\n",
        "  h2,m2=time_separation(pst)\n",
        "  for x1,y1,x2,y2 in zip(h1,m1,h2,m2):\n",
        "    h3=60*(x1-x2)\n",
        "    time_de[\"delay\"].append((h3+y1)-y2)\n",
        "  return time_de\n",
        "  \n",
        "def Delivery_expectation(sdt):\n",
        "  time_del={\"D\":[]}\n",
        "  for x in sdt: \n",
        "    if x==0:\n",
        "      time_del[\"D\"].append(\"rigth\")\n",
        "    elif x<0:\n",
        "      time_del[\"D\"].append(\"early\")\n",
        "    elif x>0:\n",
        "      time_del[\"D\"].append(\"late\")\n",
        "  return time_del \n",
        "\n",
        "def Delivery_efficiency(data):\n",
        "  return data.value_counts().plot(kind=\"pie\",labels=[\"late\",\"early\",\"rigth\"],title=\"Delivery\",autopct='%1.2f%%')\n",
        "\n",
        "\n",
        "def Shipment_efficiency(A_Stime,P_Stime):\n",
        "  shipping_expec=Shipping_expectation(A_Stime,P_Stime)\n",
        "  shipping_expec=pd.DataFrame(shipping_expec)\n",
        "  return shipping_expec.value_counts().plot(kind=\"pie\",labels=[\"late\",\"early\",\"rigth\"],title=\"shipping\",autopct='%1.2f%%')\n",
        "\n",
        "\n",
        "def Delay_day(data):\n",
        "  total_delay={}\n",
        "  for i in data[\"DayofMonth\"]:\n",
        "    total_delay[i]=[]\n",
        "  inde=0\n",
        "  coun=0\n",
        "  for i in data[\"Shipment_Delay\"]:\n",
        "    coun =coun+i\n",
        "    total_delay[data[\"DayofMonth\"][inde]]=int(coun)\n",
        "    inde +=1\n",
        "  total_delay=pd.DataFrame([[Key,total_delay[Key]] for Key in total_delay.keys()],columns=[\"days\",\"total_minutes_delay\"])\n",
        "  plt.bar(total_delay[\"days\"],total_delay[\"total_minutes_delay\"])\n",
        "  return plt.xlabel(\"Delay per mounth\")\n",
        "\n",
        "\n",
        "\n",
        "\n",
        "data=data_NA_drop(data)\n",
        "A_Stime=Timedata_filter(data[\"Actual_Shipment_Time\"])\n",
        "P_Stime=Timedata_filter(data[\"Planned_Shipment_Time\"])\n",
        "P_Dtime=Timedata_filter(data[\"Planned_Delivery_Time\"])\n",
        "S_Dtime=data[\"Shipment_Delay\"]\n",
        "D_Status=data[\"Delivery_Status\"]\n",
        "\n",
        "Shipment_efficiency(A_Stime,P_Stime)\n",
        "plt.show()\n",
        "Delivery_efficiency(D_Status)\n",
        "plt.show()\n",
        "Delay_day(data)\n",
        "plt.show()\n",
        "\n",
        "\n",
        "\n",
        "\n",
        "#data\n",
        "\n",
        "\n",
        "\n",
        "  "
      ],
      "metadata": {
        "id": "N3Eqt0_wch6N",
        "colab": {
          "base_uri": "https://localhost:8080/",
          "height": 773
        },
        "outputId": "9ff7c7fb-0ca4-41b6-8366-35d36e7260c6"
      },
      "execution_count": 71,
      "outputs": [
        {
          "output_type": "display_data",
          "data": {
            "text/plain": [
              "<Figure size 432x288 with 1 Axes>"
            ],
            "image/png": "[encoded data removed]"
          },
          "metadata": {}
        },
        {
          "output_type": "display_data",
          "data": {
            "text/plain": [
              "<Figure size 432x288 with 1 Axes>"
            ],
            "image/png": "[encoded data removed]"
          },
          "metadata": {}
        },
        {
          "output_type": "display_data",
          "data": {
            "text/plain": [
              "<Figure size 432x288 with 1 Axes>"
            ],
            "image/png": "[encoded data removed]"
          },
          "metadata": {
            "needs_background": "light"
          }
        }
      ]
    },
    {
      "cell_type": "code",
      "source": [
        "with PdfPages('Performance graphs.pdf') as pdf:\n",
        "    txt='Efficiency per month'\n",
        "    firstpage=plt.figure(figsize=(8.50,8.00))\n",
        "    firstpage.clf()\n",
        "    firstpage.text(0.5,0.5,txt,transform=firstpage.transFigure,size=24,ha='center')\n",
        "    pdf.savefig()\n",
        "    plt.close()\n",
        "    \n",
        "    Shipment_efficiency(A_Stime,P_Stime)\n",
        "    pdf.savefig()\n",
        "    plt.close()\n",
        "\n",
        "    Delivery_efficiency(D_Status)\n",
        "    pdf.savefig()\n",
        "    plt.close()\n",
        "\n",
        "    Delay_day(data)\n",
        "    pdf.savefig()\n",
        "    plt.close()"
      ],
      "metadata": {
        "id": "rULdM8dXprNx"
      },
      "execution_count": null,
      "outputs": []
    },
    {
      "cell_type": "code",
      "source": [
        "mensaje=MIMEMultipart()\n",
        "mensaje[\"From\"]=\"alvaro.arauz.23@gmail.com\"\n",
        "mensaje[\"To\"]=\"samuel\"\n",
        "mensaje[\"Subject\"]=\"graficas de rendimiento\"\n",
        "\n",
        "archivo =open('/content/Performance graphs.pdf',\"rb\")\n",
        "adjunt =MIMEBase(\"application\", \"octect-stream\")\n",
        "adjunt.set_payload((archivo).read())\n",
        "encoders.encode_base64(adjunt)\n",
        "adjunt.add_header('Content-Disposition',\"attachment; filename = %s\"%\"graficas de efficiencia mensual.pdf\")\n",
        "mensaje.attach(adjunt)\n",
        "smtp= SMTP(\"smtp.gmail.com\")\n",
        "smtp.starttls() \n",
        "smtp.login(\"alvaro.hakatonfake@gmail.com\",\"tfutolizbyevsyae\")\n",
        "smtp.sendmail(\"alvaro.hakatonfake@gmail.com\",\"alvaro.hakatonfake@gmail.com\",mensaje.as_string())\n",
        "smtp.quit()\n",
        "\n",
        "\n"
      ],
      "metadata": {
        "id": "v-DvEH7Lpxqk",
        "colab": {
          "base_uri": "https://localhost:8080/"
        },
        "outputId": "20b7178e-b1bc-4761-e0a3-a601cda4af7f"
      },
      "execution_count": 51,
      "outputs": [
        {
          "output_type": "execute_result",
          "data": {
            "text/plain": [
              "(221,\n",
              " b'2.0.0 closing connection o4-20020a170902bcc400b00186c5e8a8d7sm2255990pls.171 - gsmtp')"
            ]
          },
          "metadata": {},
          "execution_count": 51
        }
      ]
    },
    {
      "cell_type": "markdown",
      "source": [
        "## ***BAR GRAPH***"
      ],
      "metadata": {
        "id": "m5xWnd2E3HMh"
      }
    },
    {
      "cell_type": "code",
      "source": [
        "#Datatable----------------------------------------------------------------------\n",
        "\n",
        "bargraph_data = data.value_counts(['DayofMonth']).rename_axis('Month').reset_index(name='amount')\n",
        "bargraph_data.sort_values(by='Month')"
      ],
      "metadata": {
        "id": "AbkOdFmW3Uxc",
        "colab": {
          "base_uri": "https://localhost:8080/",
          "height": 175
        },
        "outputId": "fb22a7f9-c636-4d09-ac04-2a6ddceeee48"
      },
      "execution_count": null,
      "outputs": [
        {
          "output_type": "execute_result",
          "data": {
            "text/plain": [
              "   Month  amount\n",
              "2      3    2367\n",
              "0      4    3438\n",
              "1      5    2809\n",
              "3      6     385"
            ],
            "text/html": [
              "\n",
              "  <div id=\"df-774bd92c-3fc6-4aa8-a273-024fb042793a\">\n",
              "    <div class=\"colab-df-container\">\n",
              "      <div>\n",
              "<style scoped>\n",
              "    .dataframe tbody tr th:only-of-type {\n",
              "        vertical-align: middle;\n",
              "    }\n",
              "\n",
              "    .dataframe tbody tr th {\n",
              "        vertical-align: top;\n",
              "    }\n",
              "\n",
              "    .dataframe thead th {\n",
              "        text-align: right;\n",
              "    }\n",
              "</style>\n",
              "<table border=\"1\" class=\"dataframe\">\n",
              "  <thead>\n",
              "    <tr style=\"text-align: right;\">\n",
              "      <th></th>\n",
              "      <th>Month</th>\n",
              "      <th>amount</th>\n",
              "    </tr>\n",
              "  </thead>\n",
              "  <tbody>\n",
              "    <tr>\n",
              "      <th>2</th>\n",
              "      <td>3</td>\n",
              "      <td>2367</td>\n",
              "    </tr>\n",
              "    <tr>\n",
              "      <th>0</th>\n",
              "      <td>4</td>\n",
              "      <td>3438</td>\n",
              "    </tr>\n",
              "    <tr>\n",
              "      <th>1</th>\n",
              "      <td>5</td>\n",
              "      <td>2809</td>\n",
              "    </tr>\n",
              "    <tr>\n",
              "      <th>3</th>\n",
              "      <td>6</td>\n",
              "      <td>385</td>\n",
              "    </tr>\n",
              "  </tbody>\n",
              "</table>\n",
              "</div>\n",
              "      <button class=\"colab-df-convert\" onclick=\"convertToInteractive('df-774bd92c-3fc6-4aa8-a273-024fb042793a')\"\n",
              "              title=\"Convert this dataframe to an interactive table.\"\n",
              "              style=\"display:none;\">\n",
              "        \n",
              "  <svg xmlns=\"http://www.w3.org/2000/svg\" height=\"24px\"viewBox=\"0 0 24 24\"\n",
              "       width=\"24px\">\n",
              "    <path d=\"M0 0h24v24H0V0z\" fill=\"none\"/>\n",
              "    <path d=\"M18.56 5.44l.94 2.06.94-2.06 2.06-.94-2.06-.94-.94-2.06-.94 2.06-2.06.94zm-11 1L8.5 8.5l.94-2.06 2.06-.94-2.06-.94L8.5 2.5l-.94 2.06-2.06.94zm10 10l.94 2.06.94-2.06 2.06-.94-2.06-.94-.94-2.06-.94 2.06-2.06.94z\"/><path d=\"M17.41 7.96l-1.37-1.37c-.4-.4-.92-.59-1.43-.59-.52 0-1.04.2-1.43.59L10.3 9.45l-7.72 7.72c-.78.78-.78 2.05 0 2.83L4 21.41c.39.39.9.59 1.41.59.51 0 1.02-.2 1.41-.59l7.78-7.78 2.81-2.81c.8-.78.8-2.07 0-2.86zM5.41 20L4 18.59l7.72-7.72 1.47 1.35L5.41 20z\"/>\n",
              "  </svg>\n",
              "      </button>\n",
              "      \n",
              "  <style>\n",
              "    .colab-df-container {\n",
              "      display:flex;\n",
              "      flex-wrap:wrap;\n",
              "      gap: 12px;\n",
              "    }\n",
              "\n",
              "    .colab-df-convert {\n",
              "      background-color: #E8F0FE;\n",
              "      border: none;\n",
              "      border-radius: 50%;\n",
              "      cursor: pointer;\n",
              "      display: none;\n",
              "      fill: #1967D2;\n",
              "      height: 32px;\n",
              "      padding: 0 0 0 0;\n",
              "      width: 32px;\n",
              "    }\n",
              "\n",
              "    .colab-df-convert:hover {\n",
              "      background-color: #E2EBFA;\n",
              "      box-shadow: 0px 1px 2px rgba(60, 64, 67, 0.3), 0px 1px 3px 1px rgba(60, 64, 67, 0.15);\n",
              "      fill: #174EA6;\n",
              "    }\n",
              "\n",
              "    [theme=dark] .colab-df-convert {\n",
              "      background-color: #3B4455;\n",
              "      fill: #D2E3FC;\n",
              "    }\n",
              "\n",
              "    [theme=dark] .colab-df-convert:hover {\n",
              "      background-color: #434B5C;\n",
              "      box-shadow: 0px 1px 3px 1px rgba(0, 0, 0, 0.15);\n",
              "      filter: drop-shadow(0px 1px 2px rgba(0, 0, 0, 0.3));\n",
              "      fill: #FFFFFF;\n",
              "    }\n",
              "  </style>\n",
              "\n",
              "      <script>\n",
              "        const buttonEl =\n",
              "          document.querySelector('#df-774bd92c-3fc6-4aa8-a273-024fb042793a button.colab-df-convert');\n",
              "        buttonEl.style.display =\n",
              "          google.colab.kernel.accessAllowed ? 'block' : 'none';\n",
              "\n",
              "        async function convertToInteractive(key) {\n",
              "          const element = document.querySelector('#df-774bd92c-3fc6-4aa8-a273-024fb042793a');\n",
              "          const dataTable =\n",
              "            await google.colab.kernel.invokeFunction('convertToInteractive',\n",
              "                                                     [key], {});\n",
              "          if (!dataTable) return;\n",
              "\n",
              "          const docLinkHtml = 'Like what you see? Visit the ' +\n",
              "            '<a target=\"_blank\" href=https://colab.research.google.com/notebooks/data_table.ipynb>data table notebook</a>'\n",
              "            + ' to learn more about interactive tables.';\n",
              "          element.innerHTML = '';\n",
              "          dataTable['output_type'] = 'display_data';\n",
              "          await google.colab.output.renderOutput(dataTable, element);\n",
              "          const docLink = document.createElement('div');\n",
              "          docLink.innerHTML = docLinkHtml;\n",
              "          element.appendChild(docLink);\n",
              "        }\n",
              "      </script>\n",
              "    </div>\n",
              "  </div>\n",
              "  "
            ]
          },
          "metadata": {},
          "execution_count": 110
        }
      ]
    },
    {
      "cell_type": "code",
      "source": [
        "#Set labels and values for the bar chart----------------------------------------\n",
        "\n",
        "bargraph_labels = ['March','April','May','June']\n",
        "bargraph_values = bargraph_data.amount\n",
        "\n",
        "#Visualization of the bar graph-------------------------------------------------\n",
        "\n",
        "#bar color\n",
        "\n",
        "bargraph_colors = ['#081c15','#1b4332','#2d6a4f','#40916c','#52b788','#74c69d','#95d5b2','#b7e4c7']\n",
        "\n",
        "# Figure Size\n",
        "fig, ax = plt.subplots(figsize =(16, 9))\n",
        "\n",
        "# Horizontal Bar Plot\n",
        "ax.barh(bargraph_labels, bargraph_values,color = bargraph_colors)\n",
        "\n",
        "# Remove axes splines\n",
        "for s in ['top', 'bottom', 'left', 'right']:\n",
        "\tax.spines[s].set_visible(False)\n",
        "\n",
        "# Remove x, y Ticks\n",
        "ax.xaxis.set_ticks_position('none')\n",
        "ax.yaxis.set_ticks_position('none')\n",
        "\n",
        "# Add padding between axes and labels\n",
        "ax.xaxis.set_tick_params(pad = 5)\n",
        "ax.yaxis.set_tick_params(pad = 10)\n",
        "\n",
        "# Add x, y gridlines\n",
        "ax.grid(b = True, color ='black',\n",
        "\t\tlinestyle ='-.', linewidth = 1,\n",
        "\t\talpha = 0.2)\n",
        "\n",
        "# Show top values\n",
        "ax.invert_yaxis()\n",
        "\n",
        "# Add annotation to bars\n",
        "for i in ax.patches:\n",
        "\tplt.text(i.get_width()+3, i.get_y()+0.4,\n",
        "\t\t\tstr(round((i.get_width()), 3)),\n",
        "\t\t\tfontsize = 15, fontweight ='bold',\n",
        "\t\t\tcolor ='grey')\n",
        "\n",
        "# Add Plot Title\n",
        "ax.set_title('PACKAGES PER MONTH',loc ='center',fontdict={'fontsize':20,'fontweight':'bold'}, y=1.05  )\n",
        "\n",
        "\n",
        "\n",
        "# Show Plot\n",
        "plt.show()\n"
      ],
      "metadata": {
        "id": "9aq6t8NmEEC1",
        "colab": {
          "base_uri": "https://localhost:8080/",
          "height": 622
        },
        "outputId": "c680797a-f05e-4989-a33f-d36ad7fc900f"
      },
      "execution_count": null,
      "outputs": [
        {
          "output_type": "display_data",
          "data": {
            "text/plain": [
              "<Figure size 1152x648 with 1 Axes>"
            ],
            "image/png": "[encoded data removed]"
          },
          "metadata": {}
        }
      ]
    },
    {
      "cell_type": "markdown",
      "source": [
        "## ***DELIVERED VS UNDELIVERED***"
      ],
      "metadata": {
        "id": "57AiHWd19KmB"
      }
    },
    {
      "cell_type": "code",
      "source": [
        "#Dataframe----------------------------------------------------------------------\n",
        "\n",
        "from os import name\n",
        "piechart_data = data.value_counts(['Delivery_Status']).rename_axis('Status').reset_index(name='amount')\n",
        "piechart_data"
      ],
      "metadata": {
        "id": "Kj4Nl8GCDv0H",
        "colab": {
          "base_uri": "https://localhost:8080/",
          "height": 112
        },
        "outputId": "6a5af530-e3e2-4bfc-d782-84011f91099c"
      },
      "execution_count": null,
      "outputs": [
        {
          "output_type": "execute_result",
          "data": {
            "text/plain": [
              "   Status  amount\n",
              "0     0.0    5336\n",
              "1     1.0    3389"
            ],
            "text/html": [
              "\n",
              "  <div id=\"df-0b2725d5-8312-4974-98e4-95a7cfb07473\">\n",
              "    <div class=\"colab-df-container\">\n",
              "      <div>\n",
              "<style scoped>\n",
              "    .dataframe tbody tr th:only-of-type {\n",
              "        vertical-align: middle;\n",
              "    }\n",
              "\n",
              "    .dataframe tbody tr th {\n",
              "        vertical-align: top;\n",
              "    }\n",
              "\n",
              "    .dataframe thead th {\n",
              "        text-align: right;\n",
              "    }\n",
              "</style>\n",
              "<table border=\"1\" class=\"dataframe\">\n",
              "  <thead>\n",
              "    <tr style=\"text-align: right;\">\n",
              "      <th></th>\n",
              "      <th>Status</th>\n",
              "      <th>amount</th>\n",
              "    </tr>\n",
              "  </thead>\n",
              "  <tbody>\n",
              "    <tr>\n",
              "      <th>0</th>\n",
              "      <td>0.0</td>\n",
              "      <td>5336</td>\n",
              "    </tr>\n",
              "    <tr>\n",
              "      <th>1</th>\n",
              "      <td>1.0</td>\n",
              "      <td>3389</td>\n",
              "    </tr>\n",
              "  </tbody>\n",
              "</table>\n",
              "</div>\n",
              "      <button class=\"colab-df-convert\" onclick=\"convertToInteractive('df-0b2725d5-8312-4974-98e4-95a7cfb07473')\"\n",
              "              title=\"Convert this dataframe to an interactive table.\"\n",
              "              style=\"display:none;\">\n",
              "        \n",
              "  <svg xmlns=\"http://www.w3.org/2000/svg\" height=\"24px\"viewBox=\"0 0 24 24\"\n",
              "       width=\"24px\">\n",
              "    <path d=\"M0 0h24v24H0V0z\" fill=\"none\"/>\n",
              "    <path d=\"M18.56 5.44l.94 2.06.94-2.06 2.06-.94-2.06-.94-.94-2.06-.94 2.06-2.06.94zm-11 1L8.5 8.5l.94-2.06 2.06-.94-2.06-.94L8.5 2.5l-.94 2.06-2.06.94zm10 10l.94 2.06.94-2.06 2.06-.94-2.06-.94-.94-2.06-.94 2.06-2.06.94z\"/><path d=\"M17.41 7.96l-1.37-1.37c-.4-.4-.92-.59-1.43-.59-.52 0-1.04.2-1.43.59L10.3 9.45l-7.72 7.72c-.78.78-.78 2.05 0 2.83L4 21.41c.39.39.9.59 1.41.59.51 0 1.02-.2 1.41-.59l7.78-7.78 2.81-2.81c.8-.78.8-2.07 0-2.86zM5.41 20L4 18.59l7.72-7.72 1.47 1.35L5.41 20z\"/>\n",
              "  </svg>\n",
              "      </button>\n",
              "      \n",
              "  <style>\n",
              "    .colab-df-container {\n",
              "      display:flex;\n",
              "      flex-wrap:wrap;\n",
              "      gap: 12px;\n",
              "    }\n",
              "\n",
              "    .colab-df-convert {\n",
              "      background-color: #E8F0FE;\n",
              "      border: none;\n",
              "      border-radius: 50%;\n",
              "      cursor: pointer;\n",
              "      display: none;\n",
              "      fill: #1967D2;\n",
              "      height: 32px;\n",
              "      padding: 0 0 0 0;\n",
              "      width: 32px;\n",
              "    }\n",
              "\n",
              "    .colab-df-convert:hover {\n",
              "      background-color: #E2EBFA;\n",
              "      box-shadow: 0px 1px 2px rgba(60, 64, 67, 0.3), 0px 1px 3px 1px rgba(60, 64, 67, 0.15);\n",
              "      fill: #174EA6;\n",
              "    }\n",
              "\n",
              "    [theme=dark] .colab-df-convert {\n",
              "      background-color: #3B4455;\n",
              "      fill: #D2E3FC;\n",
              "    }\n",
              "\n",
              "    [theme=dark] .colab-df-convert:hover {\n",
              "      background-color: #434B5C;\n",
              "      box-shadow: 0px 1px 3px 1px rgba(0, 0, 0, 0.15);\n",
              "      filter: drop-shadow(0px 1px 2px rgba(0, 0, 0, 0.3));\n",
              "      fill: #FFFFFF;\n",
              "    }\n",
              "  </style>\n",
              "\n",
              "      <script>\n",
              "        const buttonEl =\n",
              "          document.querySelector('#df-0b2725d5-8312-4974-98e4-95a7cfb07473 button.colab-df-convert');\n",
              "        buttonEl.style.display =\n",
              "          google.colab.kernel.accessAllowed ? 'block' : 'none';\n",
              "\n",
              "        async function convertToInteractive(key) {\n",
              "          const element = document.querySelector('#df-0b2725d5-8312-4974-98e4-95a7cfb07473');\n",
              "          const dataTable =\n",
              "            await google.colab.kernel.invokeFunction('convertToInteractive',\n",
              "                                                     [key], {});\n",
              "          if (!dataTable) return;\n",
              "\n",
              "          const docLinkHtml = 'Like what you see? Visit the ' +\n",
              "            '<a target=\"_blank\" href=https://colab.research.google.com/notebooks/data_table.ipynb>data table notebook</a>'\n",
              "            + ' to learn more about interactive tables.';\n",
              "          element.innerHTML = '';\n",
              "          dataTable['output_type'] = 'display_data';\n",
              "          await google.colab.output.renderOutput(dataTable, element);\n",
              "          const docLink = document.createElement('div');\n",
              "          docLink.innerHTML = docLinkHtml;\n",
              "          element.appendChild(docLink);\n",
              "        }\n",
              "      </script>\n",
              "    </div>\n",
              "  </div>\n",
              "  "
            ]
          },
          "metadata": {},
          "execution_count": 63
        }
      ]
    },
    {
      "cell_type": "code",
      "source": [
        "#Set lables and values for piechart---------------------------------------------\n",
        "\n",
        "piechart_labels = ['Delivered','Undelivered']\n",
        "piechart_values = piechart_data.amount\n",
        "exp = [0.1,0.0]\n",
        "piechart_colors = ['#e07a5f','#3d405b']\n",
        "\n",
        "#Visualization of the piechart--------------------------------------------------\n",
        "\n",
        "plt.pie(piechart_values, labels = piechart_labels,explode= exp,shadow=True, autopct='%2.1f%%',textprops=dict(color=\"w\",),colors=piechart_colors)\n",
        "plt.style.use(\"fivethirtyeight\")\n",
        "plt.tight_layout()\n",
        "plt.axis('equal')\n",
        "plt.title('STATUS',fontdict={'fontsize':18,'fontweight':'bold'}) \n",
        "plt.legend(loc='upper left')\n",
        "\n",
        "\n",
        "\n",
        "plt.show()"
      ],
      "metadata": {
        "colab": {
          "base_uri": "https://localhost:8080/",
          "height": 309
        },
        "id": "WNIhHqr19XRk",
        "outputId": "4292fb66-4ae6-4d0f-80bf-84d012db23f5"
      },
      "execution_count": null,
      "outputs": [
        {
          "output_type": "display_data",
          "data": {
            "text/plain": [
              "<Figure size 432x288 with 1 Axes>"
            ],
            "image/png": "[encoded data removed]"
          },
          "metadata": {}
        }
      ]
    },
    {
      "cell_type": "markdown",
      "source": [
        "## ***DISTANCE VS DELIVERY***"
      ],
      "metadata": {
        "id": "w7N6b8SgF_mH"
      }
    },
    {
      "cell_type": "code",
      "source": [
        "from enum import unique\n",
        "#Dataframe----------------------------------------------------------------------\n",
        "\n",
        "dataframe_origin = data[['Source','Delivery_Status']]\n",
        "dataframe_origin\n",
        "\n",
        "for country in dataframe_origin['Source']:\n",
        "\n",
        "    country\n",
        "\n",
        "country"
      ],
      "metadata": {
        "colab": {
          "base_uri": "https://localhost:8080/",
          "height": 36
        },
        "id": "CA3aqgzBGInK",
        "outputId": "d12b138c-1823-4996-f45a-a495574cec72"
      },
      "execution_count": null,
      "outputs": [
        {
          "output_type": "execute_result",
          "data": {
            "text/plain": [
              "'BWI'"
            ],
            "application/vnd.google.colaboratory.intrinsic+json": {
              "type": "string"
            }
          },
          "metadata": {},
          "execution_count": 26
        }
      ]
    },
    {
      "cell_type": "code",
      "source": [],
      "metadata": {
        "id": "HijObKLv6w95"
      },
      "execution_count": null,
      "outputs": []
    }
  ]
}