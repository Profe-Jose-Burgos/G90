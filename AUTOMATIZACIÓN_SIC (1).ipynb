{
  "nbformat": 4,
  "nbformat_minor": 0,
  "metadata": {
    "colab": {
      "provenance": []
    },
    "kernelspec": {
      "name": "python3",
      "display_name": "Python 3"
    },
    "language_info": {
      "name": "python"
    }
  },
  "cells": [
    {
      "cell_type": "markdown",
      "source": [
        "## ***Libraries***"
      ],
      "metadata": {
        "id": "na1xQCkSHpD-"
      }
    },
    {
      "cell_type": "code",
      "source": [
        "#Import useful libraries--------------------------------------------------------\n",
        "\n",
        "import numpy as np\n",
        "import matplotlib.pyplot as plt\n",
        "import datetime as dt\n",
        "import seaborn as sns\n",
        "import pandas as pd\n",
        "  '''minutes=[]\n",
        "  hours=[]\n",
        "  for i in ast:\n",
        "    i=int(i)\n",
        "    i=str(i)\n",
        "    if len(i)==3:\n",
        "      m=i[:-2]\n",
        "      h=i[-1:]\n",
        "      minutes.append(m)\n",
        "      hours.append(h)\n",
        "\n",
        "    elif len(i)==4:\n",
        "      m=i[:-2]\n",
        "      h=i[-2:] \n",
        "      minutes.append(m)\n",
        "      hours.append(h)  '''"
      ],
      "metadata": {
        "id": "8ab8ThkvHtkw"
      },
      "execution_count": null,
      "outputs": []
    },
    {
      "cell_type": "markdown",
      "source": [
        "## ***Data Extraction***"
      ],
      "metadata": {
        "id": "F0HdIZl7IS6q"
      }
    },
    {
      "cell_type": "code",
      "source": [
        "#Data extraction----------------------------------------------------------------\n",
        "\n",
        "\n",
        "from google.colab import drive\n",
        "drive.mount('/content/drive')\n",
        "\n",
        "deliv=pd.read_csv('/content/drive/MyDrive/delivery_dataset.csv',sep=';')\n",
        "\n",
        "data=pd.DataFrame(deliv)\n",
        "data=data.dropna()\n",
        "A_Stime=data[\"Actual_Shipment_Time\"]\n",
        "P_Stime=data[\"Planned_Shipment_Time\"]\n",
        "P_Dtime=data[\"Planned_Delivery_Time\"]\n",
        "S_Dtime=data[\"Shipment_Delay\"]\n",
        "P_Ttravel=data[\"Planned_TimeofTravel\"]\n",
        "\n",
        "def Shipping_expectation(ast,pst):\n",
        "  time_sh={\"S\":[]}\n",
        "  for x,y in zip(ast,pst): \n",
        "    if x==y:\n",
        "      time_sh[\"S\"].append(\"rigth\")\n",
        "    elif x<y:\n",
        "      time_sh[\"S\"].append(\"early\")\n",
        "    elif x>y:\n",
        "      time_sh[\"S\"].append(\"late\")\n",
        "  return time_sh\n",
        "  \n",
        "def Delivery_expectation(sdt):\n",
        "  time_del={\"D\":[]}\n",
        "  for x in sdt: \n",
        "    if x==0:\n",
        "      time_del[\"D\"].append(\"rigth\")\n",
        "    elif x<0:\n",
        "      time_del[\"D\"].append(\"early\")\n",
        "    elif x>0:\n",
        "      time_del[\"D\"].append(\"late\")\n",
        "  return time_del \n",
        "\n",
        "\n",
        "\n",
        "  pass\n",
        "\n",
        "#data[\"Year\"][3]\n",
        "A_Stime=data[\"Actual_Shipment_Time\"]\n",
        "P_Stime=data[\"Planned_Shipment_Time\"]\n",
        "P_Dtime=data[\"Planned_Delivery_Time\"]\n",
        "S_Dtime=data[\"Shipment_Delay\"]\n",
        "P_Ttravel=data[\"Planned_TimeofTravel\"]\n",
        "\n",
        "\n",
        "#data.info()\n",
        "#S_Dtime#\n",
        "shipping_expec=Shipping_expectation(A_Stime,P_Stime)\n",
        "shipping_expec=pd.DataFrame(shipping_expec)\n",
        "shipping_expec.value_counts().plot(kind=\"pie\",labels=[\"late\",\"early\",\"rigth\"],title=\"shipping\",autopct='%1.2f%%')\n",
        "plt.show()\n",
        "\n",
        "Delivery_expec=Delivery_expectation(S_Dtime)\n",
        "Delivery_expec=pd.DataFrame(Delivery_expec)\n",
        "Delivery_expec.value_counts().plot(kind=\"pie\",labels=[\"late\",\"early\",\"rigth\"],title=\"Delivery\",autopct='%1.2f%%')\n",
        "plt.show()\n"
      ],
      "metadata": {
        "id": "N5ftOoGfIgJB",
        "colab": {
          "base_uri": "https://localhost:8080/",
          "height": 528
        },
        "outputId": "5af093ea-0edd-48c1-db29-ea992a47c3c4"
      },
      "execution_count": 68,
      "outputs": [
        {
          "output_type": "stream",
          "name": "stdout",
          "text": [
            "Drive already mounted at /content/drive; to attempt to forcibly remount, call drive.mount(\"/content/drive\", force_remount=True).\n"
          ]
        },
        {
          "output_type": "display_data",
          "data": {
            "text/plain": [
              "<Figure size 432x288 with 1 Axes>"
            ],
            "image/png": "[encoded data removed]"
          },
          "metadata": {}
        },
        {
          "output_type": "display_data",
          "data": {
            "text/plain": [
              "<Figure size 432x288 with 1 Axes>"
            ],
            "image/png": "[encoded data removed]"
          },
          "metadata": {}
        }
      ]
    }
  ]
}